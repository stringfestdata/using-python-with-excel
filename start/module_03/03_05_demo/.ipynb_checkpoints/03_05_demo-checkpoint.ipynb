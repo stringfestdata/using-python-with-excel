{
 "cells": [
  {
   "cell_type": "code",
   "execution_count": null,
   "id": "b3086071",
   "metadata": {},
   "outputs": [],
   "source": [
    "import pandas as pd\n",
    "import seaborn as sns\n",
    "import openpyxl\n",
    "import matplotlib.pyplot as plt\n",
    "\n",
    "mpg = sns.load_dataset('mpg')\n",
    "mpg.head()\n",
    "\n",
    "wb = openpyxl.Workbook()"
   ]
  }
 ],
 "metadata": {
  "kernelspec": {
   "display_name": "Python 3 (ipykernel)",
   "language": "python",
   "name": "python3"
  },
  "language_info": {
   "codemirror_mode": {
    "name": "ipython",
    "version": 3
   },
   "file_extension": ".py",
   "mimetype": "text/x-python",
   "name": "python",
   "nbconvert_exporter": "python",
   "pygments_lexer": "ipython3",
   "version": "3.9.12"
  }
 },
 "nbformat": 4,
 "nbformat_minor": 5
}
