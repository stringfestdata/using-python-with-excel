{
 "cells": [
  {
   "cell_type": "code",
   "execution_count": 21,
   "id": "d570f20a",
   "metadata": {},
   "outputs": [],
   "source": [
    "import pandas as pd\n",
    "import numpy as np\n",
    "from openpyxl.utils.dataframe import dataframe_to_rows\n",
    "from openpyxl import load_workbook"
   ]
  },
  {
   "cell_type": "code",
   "execution_count": 22,
   "id": "322d882e",
   "metadata": {},
   "outputs": [],
   "source": []
  },
  {
   "cell_type": "code",
   "execution_count": 23,
   "id": "575c125b",
   "metadata": {},
   "outputs": [],
   "source": [
    "# df = pd.read_csv('crime.csv', encoding='utf-8', dtype={'INCIDENT_NUMBER': str, 'OFFENSE_CODE':str,\n",
    "#                                                      'OFFENSE_CODE_GROUP':str, 'OFFENSE_DESCRIPTION':str,\n",
    "#                                                      'DISTRICT':str, 'REPORTING_AREA':str,\n",
    "#                                                      'SHOOTING':str, 'YEAR':str, 'MONTH':str,\n",
    "#                                                      'DAY_OF_WEEK':str, 'HOUR':str})"
   ]
  }
 ],
 "metadata": {
  "kernelspec": {
   "display_name": "Python 3 (ipykernel)",
   "language": "python",
   "name": "python3"
  },
  "language_info": {
   "codemirror_mode": {
    "name": "ipython",
    "version": 3
   },
   "file_extension": ".py",
   "mimetype": "text/x-python",
   "name": "python",
   "nbconvert_exporter": "python",
   "pygments_lexer": "ipython3",
   "version": "3.9.12"
  }
 },
 "nbformat": 4,
 "nbformat_minor": 5
}
