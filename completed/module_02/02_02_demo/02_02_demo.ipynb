{
 "cells": [
  {
   "cell_type": "code",
   "execution_count": 1,
   "id": "3ae1da3b",
   "metadata": {},
   "outputs": [],
   "source": [
    "from openpyxl.workbook import Workbook\n",
    "from openpyxl import load_workbook"
   ]
  },
  {
   "cell_type": "code",
   "execution_count": 2,
   "id": "1e9c8285",
   "metadata": {},
   "outputs": [],
   "source": [
    "wb = load_workbook('regions.xlsx')\n",
    "ws = wb.active"
   ]
  },
  {
   "cell_type": "code",
   "execution_count": 3,
   "id": "0d7f1d94",
   "metadata": {},
   "outputs": [
    {
     "data": {
      "text/plain": [
       "<Cell 'Sheet1'.A1>"
      ]
     },
     "execution_count": 3,
     "metadata": {},
     "output_type": "execute_result"
    }
   ],
   "source": [
    "my_cell = ws['A1']\n",
    "my_cell"
   ]
  },
  {
   "cell_type": "code",
   "execution_count": 4,
   "id": "0fd59c75",
   "metadata": {},
   "outputs": [
    {
     "data": {
      "text/plain": [
       "'Region'"
      ]
     },
     "execution_count": 4,
     "metadata": {},
     "output_type": "execute_result"
    }
   ],
   "source": [
    "my_cell.value"
   ]
  },
  {
   "cell_type": "code",
   "execution_count": 5,
   "id": "8395ba05",
   "metadata": {},
   "outputs": [
    {
     "data": {
      "text/plain": [
       "(<Cell 'Sheet1'.A1>,\n",
       " <Cell 'Sheet1'.B1>,\n",
       " <Cell 'Sheet1'.C1>,\n",
       " <Cell 'Sheet1'.D1>)"
      ]
     },
     "execution_count": 5,
     "metadata": {},
     "output_type": "execute_result"
    }
   ],
   "source": [
    "cell_range = ws[1]\n",
    "cell_range"
   ]
  },
  {
   "cell_type": "code",
   "execution_count": 6,
   "id": "4a3b7acb",
   "metadata": {},
   "outputs": [
    {
     "data": {
      "text/plain": [
       "((<Cell 'Sheet1'.A1>,\n",
       "  <Cell 'Sheet1'.B1>,\n",
       "  <Cell 'Sheet1'.C1>,\n",
       "  <Cell 'Sheet1'.D1>),\n",
       " (<Cell 'Sheet1'.A2>,\n",
       "  <Cell 'Sheet1'.B2>,\n",
       "  <Cell 'Sheet1'.C2>,\n",
       "  <Cell 'Sheet1'.D2>),\n",
       " (<Cell 'Sheet1'.A3>,\n",
       "  <Cell 'Sheet1'.B3>,\n",
       "  <Cell 'Sheet1'.C3>,\n",
       "  <Cell 'Sheet1'.D3>))"
      ]
     },
     "execution_count": 6,
     "metadata": {},
     "output_type": "execute_result"
    }
   ],
   "source": [
    "ws[1:3]"
   ]
  },
  {
   "cell_type": "code",
   "execution_count": 7,
   "id": "41274800",
   "metadata": {},
   "outputs": [
    {
     "data": {
      "text/plain": [
       "(<Cell 'Sheet1'.C1>,\n",
       " <Cell 'Sheet1'.C2>,\n",
       " <Cell 'Sheet1'.C3>,\n",
       " <Cell 'Sheet1'.C4>,\n",
       " <Cell 'Sheet1'.C5>,\n",
       " <Cell 'Sheet1'.C6>,\n",
       " <Cell 'Sheet1'.C7>)"
      ]
     },
     "execution_count": 7,
     "metadata": {},
     "output_type": "execute_result"
    }
   ],
   "source": [
    "col_c = ws['C']\n",
    "col_c"
   ]
  },
  {
   "cell_type": "code",
   "execution_count": 8,
   "id": "38d89ca4",
   "metadata": {},
   "outputs": [
    {
     "data": {
      "text/plain": [
       "(<Cell 'Sheet1'.C1>,\n",
       " <Cell 'Sheet1'.C2>,\n",
       " <Cell 'Sheet1'.C3>,\n",
       " <Cell 'Sheet1'.C4>,\n",
       " <Cell 'Sheet1'.C5>,\n",
       " <Cell 'Sheet1'.C6>,\n",
       " <Cell 'Sheet1'.C7>)"
      ]
     },
     "execution_count": 8,
     "metadata": {},
     "output_type": "execute_result"
    }
   ],
   "source": [
    "from openpyxl.utils import get_column_letter\n",
    "ws[get_column_letter(3)]"
   ]
  },
  {
   "cell_type": "code",
   "execution_count": 9,
   "id": "5320da99",
   "metadata": {},
   "outputs": [
    {
     "data": {
      "text/plain": [
       "((<Cell 'Sheet1'.A1>,\n",
       "  <Cell 'Sheet1'.A2>,\n",
       "  <Cell 'Sheet1'.A3>,\n",
       "  <Cell 'Sheet1'.A4>,\n",
       "  <Cell 'Sheet1'.A5>,\n",
       "  <Cell 'Sheet1'.A6>,\n",
       "  <Cell 'Sheet1'.A7>),\n",
       " (<Cell 'Sheet1'.B1>,\n",
       "  <Cell 'Sheet1'.B2>,\n",
       "  <Cell 'Sheet1'.B3>,\n",
       "  <Cell 'Sheet1'.B4>,\n",
       "  <Cell 'Sheet1'.B5>,\n",
       "  <Cell 'Sheet1'.B6>,\n",
       "  <Cell 'Sheet1'.B7>),\n",
       " (<Cell 'Sheet1'.C1>,\n",
       "  <Cell 'Sheet1'.C2>,\n",
       "  <Cell 'Sheet1'.C3>,\n",
       "  <Cell 'Sheet1'.C4>,\n",
       "  <Cell 'Sheet1'.C5>,\n",
       "  <Cell 'Sheet1'.C6>,\n",
       "  <Cell 'Sheet1'.C7>))"
      ]
     },
     "execution_count": 9,
     "metadata": {},
     "output_type": "execute_result"
    }
   ],
   "source": [
    "col_range = ws['A':'C']\n",
    "col_range"
   ]
  },
  {
   "cell_type": "code",
   "execution_count": 10,
   "id": "b7b5cc19",
   "metadata": {},
   "outputs": [
    {
     "name": "stdout",
     "output_type": "stream",
     "text": [
      "Region\n",
      "Units\n",
      "Sales\n",
      "South\n",
      "54\n",
      "332\n"
     ]
    }
   ],
   "source": [
    "for row in ws.iter_rows(min_row=1, min_col=1, \n",
    "                        max_row=2, max_col=3):\n",
    "    for cell in row:\n",
    "        print(cell.value)"
   ]
  },
  {
   "cell_type": "code",
   "execution_count": null,
   "id": "e7246950",
   "metadata": {},
   "outputs": [],
   "source": []
  }
 ],
 "metadata": {
  "kernelspec": {
   "display_name": "Python 3 (ipykernel)",
   "language": "python",
   "name": "python3"
  },
  "language_info": {
   "codemirror_mode": {
    "name": "ipython",
    "version": 3
   },
   "file_extension": ".py",
   "mimetype": "text/x-python",
   "name": "python",
   "nbconvert_exporter": "python",
   "pygments_lexer": "ipython3",
   "version": "3.9.12"
  }
 },
 "nbformat": 4,
 "nbformat_minor": 5
}
