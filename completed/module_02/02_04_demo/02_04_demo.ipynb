{
 "cells": [
  {
   "cell_type": "code",
   "execution_count": 1,
   "id": "5039641a",
   "metadata": {},
   "outputs": [
    {
     "data": {
      "text/html": [
       "<div>\n",
       "<style scoped>\n",
       "    .dataframe tbody tr th:only-of-type {\n",
       "        vertical-align: middle;\n",
       "    }\n",
       "\n",
       "    .dataframe tbody tr th {\n",
       "        vertical-align: top;\n",
       "    }\n",
       "\n",
       "    .dataframe thead th {\n",
       "        text-align: right;\n",
       "    }\n",
       "</style>\n",
       "<table border=\"1\" class=\"dataframe\">\n",
       "  <thead>\n",
       "    <tr style=\"text-align: right;\">\n",
       "      <th></th>\n",
       "      <th>species</th>\n",
       "      <th>island</th>\n",
       "      <th>bill_length_mm</th>\n",
       "      <th>bill_depth_mm</th>\n",
       "      <th>flipper_length_mm</th>\n",
       "      <th>body_mass_g</th>\n",
       "      <th>sex</th>\n",
       "    </tr>\n",
       "  </thead>\n",
       "  <tbody>\n",
       "    <tr>\n",
       "      <th>64</th>\n",
       "      <td>Adelie</td>\n",
       "      <td>Biscoe</td>\n",
       "      <td>36.4</td>\n",
       "      <td>17.1</td>\n",
       "      <td>184.0</td>\n",
       "      <td>2850.0</td>\n",
       "      <td>Female</td>\n",
       "    </tr>\n",
       "    <tr>\n",
       "      <th>237</th>\n",
       "      <td>Gentoo</td>\n",
       "      <td>Biscoe</td>\n",
       "      <td>49.2</td>\n",
       "      <td>15.2</td>\n",
       "      <td>221.0</td>\n",
       "      <td>6300.0</td>\n",
       "      <td>Male</td>\n",
       "    </tr>\n",
       "    <tr>\n",
       "      <th>115</th>\n",
       "      <td>Adelie</td>\n",
       "      <td>Biscoe</td>\n",
       "      <td>42.7</td>\n",
       "      <td>18.3</td>\n",
       "      <td>196.0</td>\n",
       "      <td>4075.0</td>\n",
       "      <td>Male</td>\n",
       "    </tr>\n",
       "    <tr>\n",
       "      <th>97</th>\n",
       "      <td>Adelie</td>\n",
       "      <td>Dream</td>\n",
       "      <td>40.3</td>\n",
       "      <td>18.5</td>\n",
       "      <td>196.0</td>\n",
       "      <td>4350.0</td>\n",
       "      <td>Male</td>\n",
       "    </tr>\n",
       "    <tr>\n",
       "      <th>37</th>\n",
       "      <td>Adelie</td>\n",
       "      <td>Dream</td>\n",
       "      <td>42.2</td>\n",
       "      <td>18.5</td>\n",
       "      <td>180.0</td>\n",
       "      <td>3550.0</td>\n",
       "      <td>Female</td>\n",
       "    </tr>\n",
       "  </tbody>\n",
       "</table>\n",
       "</div>"
      ],
      "text/plain": [
       "    species  island  bill_length_mm  bill_depth_mm  flipper_length_mm  \\\n",
       "64   Adelie  Biscoe            36.4           17.1              184.0   \n",
       "237  Gentoo  Biscoe            49.2           15.2              221.0   \n",
       "115  Adelie  Biscoe            42.7           18.3              196.0   \n",
       "97   Adelie   Dream            40.3           18.5              196.0   \n",
       "37   Adelie   Dream            42.2           18.5              180.0   \n",
       "\n",
       "     body_mass_g     sex  \n",
       "64        2850.0  Female  \n",
       "237       6300.0    Male  \n",
       "115       4075.0    Male  \n",
       "97        4350.0    Male  \n",
       "37        3550.0  Female  "
      ]
     },
     "execution_count": 1,
     "metadata": {},
     "output_type": "execute_result"
    }
   ],
   "source": [
    "import openpyxl\n",
    "from openpyxl.worksheet.table import Table, TableStyleInfo\n",
    "from openpyxl.utils import get_column_letter\n",
    "from openpyxl.utils.dataframe import dataframe_to_rows\n",
    "from openpyxl import Workbook\n",
    "wb = Workbook()\n",
    "\n",
    "import seaborn as sns\n",
    "penguins = sns.load_dataset('penguins')\n",
    "penguins = penguins.sample(frac=.05, random_state=1234)\n",
    "penguins.head()"
   ]
  },
  {
   "cell_type": "code",
   "execution_count": 2,
   "id": "c7ed5ef8",
   "metadata": {},
   "outputs": [
    {
     "data": {
      "text/plain": [
       "['Adelie', 'Gentoo', 'Chinstrap']"
      ]
     },
     "execution_count": 2,
     "metadata": {},
     "output_type": "execute_result"
    }
   ],
   "source": [
    "species = penguins['species'].unique().tolist()\n",
    "species"
   ]
  },
  {
   "cell_type": "code",
   "execution_count": 3,
   "id": "1c90a8af",
   "metadata": {},
   "outputs": [],
   "source": [
    "ws1 = wb.create_sheet('species')\n",
    "ws1.append(species)\n",
    "\n",
    "new_range = openpyxl.workbook.defined_name.DefinedName('species', attr_text='species!$A$1:$C$1')\n",
    "wb.defined_names.append(new_range)"
   ]
  },
  {
   "cell_type": "code",
   "execution_count": 4,
   "id": "81892d7f",
   "metadata": {},
   "outputs": [],
   "source": [
    "ws2 = wb.create_sheet('penguins')\n",
    "\n",
    "for r in dataframe_to_rows(penguins, index=False, header=True):\n",
    "    ws2.append(r)"
   ]
  },
  {
   "cell_type": "code",
   "execution_count": 5,
   "id": "a40a5ecf",
   "metadata": {},
   "outputs": [],
   "source": [
    "style = TableStyleInfo(name=\"TableStyleMedium9\", showRowStripes=True)\n",
    "\n",
    "table = Table(displayName=\"penguins\", \n",
    "              ref=\"A1:\" + get_column_letter(ws2.max_column) + str(ws2.max_row))\n",
    "\n",
    "table.tableStyleInfo = style\n",
    "\n"
   ]
  },
  {
   "cell_type": "code",
   "execution_count": 6,
   "id": "89414e98",
   "metadata": {},
   "outputs": [],
   "source": [
    "ws2.add_table(table)\n",
    "wb.save('ranges-tables.xlsx')"
   ]
  }
 ],
 "metadata": {
  "kernelspec": {
   "display_name": "Python 3 (ipykernel)",
   "language": "python",
   "name": "python3"
  },
  "language_info": {
   "codemirror_mode": {
    "name": "ipython",
    "version": 3
   },
   "file_extension": ".py",
   "mimetype": "text/x-python",
   "name": "python",
   "nbconvert_exporter": "python",
   "pygments_lexer": "ipython3",
   "version": "3.9.12"
  }
 },
 "nbformat": 4,
 "nbformat_minor": 5
}
