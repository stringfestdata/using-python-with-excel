{
 "cells": [
  {
   "cell_type": "code",
   "execution_count": 1,
   "id": "b8171073",
   "metadata": {},
   "outputs": [],
   "source": [
    "from openpyxl.styles import Font, Alignment, numbers\n",
    "from openpyxl.workbook import Workbook"
   ]
  },
  {
   "cell_type": "code",
   "execution_count": 2,
   "id": "0856d66f",
   "metadata": {},
   "outputs": [],
   "source": [
    "wb = Workbook()\n",
    "ws = wb.active"
   ]
  },
  {
   "cell_type": "code",
   "execution_count": 3,
   "id": "fe9cd27f",
   "metadata": {},
   "outputs": [],
   "source": [
    "cell1 = ws['A1']\n",
    "cell2 = ws['B2']\n",
    "cell3 = ws.cell(row = 3, column = 3)\n",
    "\n",
    "\n",
    "cell1.value = 'Hello'\n",
    "cell2.value = .5\n",
    "cell3.value = 'world!'"
   ]
  },
  {
   "cell_type": "code",
   "execution_count": 4,
   "id": "356c0f9e",
   "metadata": {},
   "outputs": [],
   "source": [
    "cell1.font = Font(name='Georgia', size=16, color='CF3338')\n",
    "cell2.number_format = numbers.FORMAT_PERCENTAGE\n",
    "cell3.alignment = Alignment(vertical='bottom')"
   ]
  },
  {
   "cell_type": "code",
   "execution_count": 5,
   "id": "f37dd504",
   "metadata": {},
   "outputs": [],
   "source": [
    "ws.column_dimensions['A'].width = 20\n",
    "ws.row_dimensions[3].height = 70"
   ]
  },
  {
   "cell_type": "code",
   "execution_count": 6,
   "id": "371bf799",
   "metadata": {},
   "outputs": [],
   "source": [
    "wb.save('formatting.xlsx')"
   ]
  },
  {
   "cell_type": "code",
   "execution_count": null,
   "id": "2c526e41",
   "metadata": {},
   "outputs": [],
   "source": []
  }
 ],
 "metadata": {
  "kernelspec": {
   "display_name": "Python 3 (ipykernel)",
   "language": "python",
   "name": "python3"
  },
  "language_info": {
   "codemirror_mode": {
    "name": "ipython",
    "version": 3
   },
   "file_extension": ".py",
   "mimetype": "text/x-python",
   "name": "python",
   "nbconvert_exporter": "python",
   "pygments_lexer": "ipython3",
   "version": "3.9.12"
  }
 },
 "nbformat": 4,
 "nbformat_minor": 5
}
