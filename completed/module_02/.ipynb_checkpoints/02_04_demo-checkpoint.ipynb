{
 "cells": [
  {
   "cell_type": "code",
   "execution_count": 1,
   "id": "b8171073",
   "metadata": {},
   "outputs": [],
   "source": [
    "from openpyxl.styles import Font, colors, Color, Alignment, PatternFill, GradientFill, Border, Side\n",
    "from openpyxl.styles import NamedStyle\n",
    "from openpyxl.workbook import Workbook"
   ]
  },
  {
   "cell_type": "code",
   "execution_count": 3,
   "id": "0f026ba7",
   "metadata": {},
   "outputs": [],
   "source": [
    "wb = Workbook()\n",
    "ws = wb.active"
   ]
  },
  {
   "cell_type": "code",
   "execution_count": null,
   "id": "cdb5fc39",
   "metadata": {},
   "outputs": [],
   "source": [
    "for i in range "
   ]
  }
 ],
 "metadata": {
  "kernelspec": {
   "display_name": "Python 3 (ipykernel)",
   "language": "python",
   "name": "python3"
  },
  "language_info": {
   "codemirror_mode": {
    "name": "ipython",
    "version": 3
   },
   "file_extension": ".py",
   "mimetype": "text/x-python",
   "name": "python",
   "nbconvert_exporter": "python",
   "pygments_lexer": "ipython3",
   "version": "3.9.12"
  }
 },
 "nbformat": 4,
 "nbformat_minor": 5
}
