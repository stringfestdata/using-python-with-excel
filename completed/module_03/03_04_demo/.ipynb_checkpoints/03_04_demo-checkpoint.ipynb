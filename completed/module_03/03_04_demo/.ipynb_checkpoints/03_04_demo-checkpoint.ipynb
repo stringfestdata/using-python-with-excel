{
 "cells": [
  {
   "cell_type": "code",
   "execution_count": 1,
   "id": "89d92f20",
   "metadata": {},
   "outputs": [
    {
     "data": {
      "text/html": [
       "<div>\n",
       "<style scoped>\n",
       "    .dataframe tbody tr th:only-of-type {\n",
       "        vertical-align: middle;\n",
       "    }\n",
       "\n",
       "    .dataframe tbody tr th {\n",
       "        vertical-align: top;\n",
       "    }\n",
       "\n",
       "    .dataframe thead th {\n",
       "        text-align: right;\n",
       "    }\n",
       "</style>\n",
       "<table border=\"1\" class=\"dataframe\">\n",
       "  <thead>\n",
       "    <tr style=\"text-align: right;\">\n",
       "      <th></th>\n",
       "      <th>borough</th>\n",
       "      <th>pop</th>\n",
       "      <th>land_area</th>\n",
       "    </tr>\n",
       "  </thead>\n",
       "  <tbody>\n",
       "    <tr>\n",
       "      <th>0</th>\n",
       "      <td>The Bronx</td>\n",
       "      <td>1472654</td>\n",
       "      <td>42.2</td>\n",
       "    </tr>\n",
       "    <tr>\n",
       "      <th>1</th>\n",
       "      <td>Brooklyn</td>\n",
       "      <td>2736074</td>\n",
       "      <td>69.4</td>\n",
       "    </tr>\n",
       "    <tr>\n",
       "      <th>2</th>\n",
       "      <td>Manhattan</td>\n",
       "      <td>1694263</td>\n",
       "      <td>22.7</td>\n",
       "    </tr>\n",
       "    <tr>\n",
       "      <th>3</th>\n",
       "      <td>Queens</td>\n",
       "      <td>2405464</td>\n",
       "      <td>108.7</td>\n",
       "    </tr>\n",
       "    <tr>\n",
       "      <th>4</th>\n",
       "      <td>Staten Island</td>\n",
       "      <td>495747</td>\n",
       "      <td>57.5</td>\n",
       "    </tr>\n",
       "  </tbody>\n",
       "</table>\n",
       "</div>"
      ],
      "text/plain": [
       "         borough      pop  land_area\n",
       "0      The Bronx  1472654       42.2\n",
       "1       Brooklyn  2736074       69.4\n",
       "2      Manhattan  1694263       22.7\n",
       "3         Queens  2405464      108.7\n",
       "4  Staten Island   495747       57.5"
      ]
     },
     "execution_count": 1,
     "metadata": {},
     "output_type": "execute_result"
    }
   ],
   "source": [
    "import pandas as pd\n",
    "import seaborn as sns\n",
    "import openpyxl\n",
    "from openpyxl.utils.dataframe import dataframe_to_rows\n",
    "from openpyxl.chart import BarChart, Series, Reference\n",
    "\n",
    "nyc = pd.read_excel('nyc-pop.xlsx')\n",
    "nyc.head()"
   ]
  },
  {
   "cell_type": "code",
   "execution_count": 2,
   "id": "2dee64b0",
   "metadata": {},
   "outputs": [],
   "source": [
    "# Sort the data for a nicer bar chart\n",
    "\n",
    "nyc.sort_values(by='pop', ascending=False, inplace=True)"
   ]
  },
  {
   "cell_type": "code",
   "execution_count": 3,
   "id": "ae658e13",
   "metadata": {},
   "outputs": [],
   "source": [
    "# Add the df to a workbook\n",
    "\n",
    "wb = openpyxl.Workbook()\n",
    "ws = wb.active\n",
    "\n",
    "for r in dataframe_to_rows(nyc, index=False, header=True):\n",
    "    ws.append(r)  "
   ]
  },
  {
   "cell_type": "code",
   "execution_count": 4,
   "id": "d3954045",
   "metadata": {},
   "outputs": [
    {
     "data": {
      "text/plain": [
       "2"
      ]
     },
     "execution_count": 4,
     "metadata": {},
     "output_type": "execute_result"
    }
   ],
   "source": [
    "# Locate the column # of pop in the workbook -- \n",
    "## add 1 to convert from 0- to 1-based indexing\n",
    "\n",
    "pop_col = nyc.columns.get_loc('pop') + 1\n",
    "pop_col"
   ]
  },
  {
   "cell_type": "code",
   "execution_count": 5,
   "id": "3e6a6a7d",
   "metadata": {},
   "outputs": [
    {
     "data": {
      "text/plain": [
       "1"
      ]
     },
     "execution_count": 5,
     "metadata": {},
     "output_type": "execute_result"
    }
   ],
   "source": [
    "borough_col = nyc.columns.get_loc('borough') + 1\n",
    "borough_col"
   ]
  },
  {
   "cell_type": "code",
   "execution_count": 6,
   "id": "1cf92f17",
   "metadata": {},
   "outputs": [],
   "source": [
    "# Locate how many rows down this data goes\n",
    "## Adding 1 again to convert to 1-based indexing \n",
    "\n",
    "max_row = nyc.shape[0] + 1"
   ]
  },
  {
   "cell_type": "code",
   "execution_count": 7,
   "id": "12c573d0",
   "metadata": {},
   "outputs": [],
   "source": [
    "chart1 = BarChart()"
   ]
  },
  {
   "cell_type": "code",
   "execution_count": 12,
   "id": "e811aa6c",
   "metadata": {},
   "outputs": [],
   "source": [
    "# Locate the range for the data and categories for this plot\n",
    "data = Reference(ws, min_col=pop_col, min_row=1, max_row=max_row)\n",
    "cats = Reference(ws, min_col=borough_col, min_row=2, max_row=max_row)\n",
    "\n",
    "\n",
    "chart1.add_data(data, titles_from_data=True)\n",
    "chart1.set_categories(cats)\n",
    "\n",
    "chart1.title = 'NYC population by borough'\n",
    "ws.add_chart(chart1, \"A10\")"
   ]
  },
  {
   "cell_type": "code",
   "execution_count": 13,
   "id": "553dd8d7",
   "metadata": {},
   "outputs": [
    {
     "data": {
      "text/plain": [
       "'Sheet'!$A$2:$A$6"
      ]
     },
     "execution_count": 13,
     "metadata": {},
     "output_type": "execute_result"
    }
   ],
   "source": [
    "cats"
   ]
  },
  {
   "cell_type": "code",
   "execution_count": 9,
   "id": "c39ff26d",
   "metadata": {},
   "outputs": [],
   "source": [
    "wb.save(\"nyc-pop-chart.xlsx\")"
   ]
  }
 ],
 "metadata": {
  "kernelspec": {
   "display_name": "Python 3 (ipykernel)",
   "language": "python",
   "name": "python3"
  },
  "language_info": {
   "codemirror_mode": {
    "name": "ipython",
    "version": 3
   },
   "file_extension": ".py",
   "mimetype": "text/x-python",
   "name": "python",
   "nbconvert_exporter": "python",
   "pygments_lexer": "ipython3",
   "version": "3.9.12"
  }
 },
 "nbformat": 4,
 "nbformat_minor": 5
}
