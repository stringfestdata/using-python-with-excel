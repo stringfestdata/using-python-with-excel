{
 "cells": [
  {
   "cell_type": "code",
   "execution_count": 1,
   "id": "054a294a",
   "metadata": {},
   "outputs": [],
   "source": [
    "import pandas as pd\n",
    "from openpyxl.workbook import Workbook\n",
    "from openpyxl import load_workbook\n",
    "from openpyxl.styles import Font"
   ]
  },
  {
   "cell_type": "code",
   "execution_count": 2,
   "id": "76488e0c",
   "metadata": {},
   "outputs": [],
   "source": [
    "df_1 = pd.read_excel('shifts.xlsx', sheet_name='Sheet')\n",
    "df_2 = pd.read_excel('shifts.xlsx', sheet_name='Sheet1')\n",
    "df_3 = pd.read_excel('shift_3.xlsx')"
   ]
  },
  {
   "cell_type": "code",
   "execution_count": 3,
   "id": "e9d22afe",
   "metadata": {},
   "outputs": [
    {
     "data": {
      "text/html": [
       "<div>\n",
       "<style scoped>\n",
       "    .dataframe tbody tr th:only-of-type {\n",
       "        vertical-align: middle;\n",
       "    }\n",
       "\n",
       "    .dataframe tbody tr th {\n",
       "        vertical-align: top;\n",
       "    }\n",
       "\n",
       "    .dataframe thead th {\n",
       "        text-align: right;\n",
       "    }\n",
       "</style>\n",
       "<table border=\"1\" class=\"dataframe\">\n",
       "  <thead>\n",
       "    <tr style=\"text-align: right;\">\n",
       "      <th></th>\n",
       "      <th>Shift</th>\n",
       "      <th>Region</th>\n",
       "      <th>Sales Rep</th>\n",
       "      <th>Product</th>\n",
       "      <th>Cost per</th>\n",
       "      <th>Units Sold</th>\n",
       "    </tr>\n",
       "  </thead>\n",
       "  <tbody>\n",
       "    <tr>\n",
       "      <th>0</th>\n",
       "      <td>1</td>\n",
       "      <td>South</td>\n",
       "      <td>Meggan</td>\n",
       "      <td>Paper</td>\n",
       "      <td>15</td>\n",
       "      <td>163</td>\n",
       "    </tr>\n",
       "    <tr>\n",
       "      <th>1</th>\n",
       "      <td>1</td>\n",
       "      <td>South</td>\n",
       "      <td>Charis</td>\n",
       "      <td>Stapler</td>\n",
       "      <td>25</td>\n",
       "      <td>108</td>\n",
       "    </tr>\n",
       "    <tr>\n",
       "      <th>2</th>\n",
       "      <td>1</td>\n",
       "      <td>South</td>\n",
       "      <td>Shayne</td>\n",
       "      <td>Pencil</td>\n",
       "      <td>5</td>\n",
       "      <td>118</td>\n",
       "    </tr>\n",
       "    <tr>\n",
       "      <th>3</th>\n",
       "      <td>1</td>\n",
       "      <td>North</td>\n",
       "      <td>Krystin</td>\n",
       "      <td>Pen</td>\n",
       "      <td>10</td>\n",
       "      <td>37</td>\n",
       "    </tr>\n",
       "    <tr>\n",
       "      <th>4</th>\n",
       "      <td>1</td>\n",
       "      <td>South</td>\n",
       "      <td>Leo</td>\n",
       "      <td>Paper</td>\n",
       "      <td>15</td>\n",
       "      <td>131</td>\n",
       "    </tr>\n",
       "    <tr>\n",
       "      <th>...</th>\n",
       "      <td>...</td>\n",
       "      <td>...</td>\n",
       "      <td>...</td>\n",
       "      <td>...</td>\n",
       "      <td>...</td>\n",
       "      <td>...</td>\n",
       "    </tr>\n",
       "    <tr>\n",
       "      <th>94</th>\n",
       "      <td>3</td>\n",
       "      <td>South</td>\n",
       "      <td>Willa</td>\n",
       "      <td>Pen</td>\n",
       "      <td>10</td>\n",
       "      <td>42</td>\n",
       "    </tr>\n",
       "    <tr>\n",
       "      <th>95</th>\n",
       "      <td>3</td>\n",
       "      <td>West</td>\n",
       "      <td>Shayne</td>\n",
       "      <td>Paper</td>\n",
       "      <td>15</td>\n",
       "      <td>168</td>\n",
       "    </tr>\n",
       "    <tr>\n",
       "      <th>96</th>\n",
       "      <td>3</td>\n",
       "      <td>East</td>\n",
       "      <td>Adrian</td>\n",
       "      <td>Binder</td>\n",
       "      <td>30</td>\n",
       "      <td>132</td>\n",
       "    </tr>\n",
       "    <tr>\n",
       "      <th>97</th>\n",
       "      <td>3</td>\n",
       "      <td>East</td>\n",
       "      <td>Willa</td>\n",
       "      <td>Paper</td>\n",
       "      <td>15</td>\n",
       "      <td>111</td>\n",
       "    </tr>\n",
       "    <tr>\n",
       "      <th>98</th>\n",
       "      <td>3</td>\n",
       "      <td>East</td>\n",
       "      <td>Diann</td>\n",
       "      <td>Folder</td>\n",
       "      <td>17</td>\n",
       "      <td>151</td>\n",
       "    </tr>\n",
       "  </tbody>\n",
       "</table>\n",
       "<p>298 rows × 6 columns</p>\n",
       "</div>"
      ],
      "text/plain": [
       "    Shift Region Sales Rep  Product  Cost per  Units Sold\n",
       "0       1  South    Meggan    Paper        15         163\n",
       "1       1  South    Charis  Stapler        25         108\n",
       "2       1  South    Shayne   Pencil         5         118\n",
       "3       1  North   Krystin      Pen        10          37\n",
       "4       1  South       Leo    Paper        15         131\n",
       "..    ...    ...       ...      ...       ...         ...\n",
       "94      3  South     Willa      Pen        10          42\n",
       "95      3   West    Shayne    Paper        15         168\n",
       "96      3   East    Adrian   Binder        30         132\n",
       "97      3   East     Willa    Paper        15         111\n",
       "98      3   East     Diann   Folder        17         151\n",
       "\n",
       "[298 rows x 6 columns]"
      ]
     },
     "execution_count": 3,
     "metadata": {},
     "output_type": "execute_result"
    }
   ],
   "source": [
    "df_all = pd.concat([df_1, df_2, df_3], sort=False)\n",
    "df_all"
   ]
  },
  {
   "cell_type": "code",
   "execution_count": 13,
   "id": "085a9b89",
   "metadata": {},
   "outputs": [
    {
     "data": {
      "text/plain": [
       "True"
      ]
     },
     "execution_count": 13,
     "metadata": {},
     "output_type": "execute_result"
    }
   ],
   "source": [
    "df_all.shape[0] == df_1.shape[0] + df_2.shape[0] + df_3.shape[0]"
   ]
  },
  {
   "cell_type": "code",
   "execution_count": 6,
   "id": "b2a9b1e7",
   "metadata": {},
   "outputs": [],
   "source": [
    "to_excel = df_all.to_excel('all_shifts.xlsx', index=None)"
   ]
  },
  {
   "cell_type": "code",
   "execution_count": 7,
   "id": "446d98ec",
   "metadata": {},
   "outputs": [],
   "source": [
    "wb = load_workbook('all_shifts.xlsx')\n",
    "ws = wb.active"
   ]
  },
  {
   "cell_type": "code",
   "execution_count": 8,
   "id": "530f923c",
   "metadata": {},
   "outputs": [],
   "source": [
    "total_col = ws['G1']\n",
    "total_col.font = Font(bold=True)\n",
    "total_col.value = 'Total'"
   ]
  },
  {
   "cell_type": "code",
   "execution_count": 9,
   "id": "4aa0e3a4",
   "metadata": {},
   "outputs": [],
   "source": [
    "e_col, f_col = ['E', 'F']"
   ]
  },
  {
   "cell_type": "code",
   "execution_count": 10,
   "id": "8cabc260",
   "metadata": {},
   "outputs": [
    {
     "data": {
      "text/plain": [
       "<openpyxl.workbook.workbook.Workbook at 0x16543055df0>"
      ]
     },
     "execution_count": 10,
     "metadata": {},
     "output_type": "execute_result"
    }
   ],
   "source": [
    "for row in range(2, 300):\n",
    "    result_cell = 'G{}'.format(row)\n",
    "    e_value = ws[e_col + str(row)].value\n",
    "    f_value = ws[f_col + str(row)].value\n",
    "    ws[result_cell] = e_value * f_value"
   ]
  },
  {
   "cell_type": "code",
   "execution_count": 11,
   "id": "987a3a38",
   "metadata": {},
   "outputs": [],
   "source": [
    "wb.save('totaled.xlsx')"
   ]
  },
  {
   "cell_type": "code",
   "execution_count": null,
   "id": "8a291283",
   "metadata": {},
   "outputs": [],
   "source": []
  },
  {
   "cell_type": "code",
   "execution_count": null,
   "id": "cb84b849",
   "metadata": {},
   "outputs": [],
   "source": []
  }
 ],
 "metadata": {
  "kernelspec": {
   "display_name": "Python 3 (ipykernel)",
   "language": "python",
   "name": "python3"
  },
  "language_info": {
   "codemirror_mode": {
    "name": "ipython",
    "version": 3
   },
   "file_extension": ".py",
   "mimetype": "text/x-python",
   "name": "python",
   "nbconvert_exporter": "python",
   "pygments_lexer": "ipython3",
   "version": "3.9.12"
  }
 },
 "nbformat": 4,
 "nbformat_minor": 5
}
