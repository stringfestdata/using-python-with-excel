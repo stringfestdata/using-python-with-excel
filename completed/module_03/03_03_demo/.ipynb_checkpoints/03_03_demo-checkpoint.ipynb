{
 "cells": [
  {
   "cell_type": "code",
   "execution_count": null,
   "id": "c0bdb8fb",
   "metadata": {},
   "outputs": [],
   "source": [
    "import pandas as pd\n",
    "import seaborn as sns\n",
    "\n",
    "tips = sns.load_dataset('tips')\n",
    "tips.head()"
   ]
  },
  {
   "cell_type": "code",
   "execution_count": null,
   "id": "6239cec5",
   "metadata": {},
   "outputs": [],
   "source": [
    "tips.style"
   ]
  },
  {
   "cell_type": "code",
   "execution_count": null,
   "id": "73efa458",
   "metadata": {},
   "outputs": [],
   "source": [
    "# Highlight all tips over 3 as green\n",
    "def highlight_cells(val):\n",
    "    color = 'green' if val > 3 else ''\n",
    "    return 'background-color: {}'.format(color)\n",
    "\n",
    "# How to apply to just one column???\n",
    "tips.style.applymap(highlight_cells, subset=pd.IndexSlice[:, ['tip']])"
   ]
  },
  {
   "cell_type": "code",
   "execution_count": null,
   "id": "7775987d",
   "metadata": {},
   "outputs": [],
   "source": [
    "# Highlight the entire row as green if over 5, yellow if over 3, nothing if else\n",
    "def highlight_rows(row):\n",
    "    value = row.loc['tip']\n",
    "    if value > 5:\n",
    "        color = '#90EE90' # Green\n",
    "    elif value > 3:\n",
    "        color = '#ffffe0' # Yellow\n",
    "    else:\n",
    "        color = ' ' # Blank\n",
    "    return ['background-color: {}'.format(color) for r in row]\n",
    "\n",
    "tips.style.apply(highlight_rows, axis=1)"
   ]
  },
  {
   "cell_type": "code",
   "execution_count": null,
   "id": "b7f5e5b0",
   "metadata": {},
   "outputs": [],
   "source": [
    "tips.style.apply(highlight_rows, axis=1).to_excel('styled_tips.xlsx', engine='openpyxl',\n",
    "                                                 index=False)"
   ]
  },
  {
   "cell_type": "code",
   "execution_count": null,
   "id": "0e5e6e5a",
   "metadata": {},
   "outputs": [],
   "source": []
  }
 ],
 "metadata": {
  "kernelspec": {
   "display_name": "Python 3 (ipykernel)",
   "language": "python",
   "name": "python3"
  },
  "language_info": {
   "codemirror_mode": {
    "name": "ipython",
    "version": 3
   },
   "file_extension": ".py",
   "mimetype": "text/x-python",
   "name": "python",
   "nbconvert_exporter": "python",
   "pygments_lexer": "ipython3",
   "version": "3.9.12"
  }
 },
 "nbformat": 4,
 "nbformat_minor": 5
}
